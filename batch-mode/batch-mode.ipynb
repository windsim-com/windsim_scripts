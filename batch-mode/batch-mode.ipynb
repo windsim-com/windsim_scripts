{
 "cells": [
  {
   "cell_type": "markdown",
   "metadata": {},
   "source": [
    "# Utility to manage the Actuator Disk runs\n",
    "## Prerequisite setup\n",
    "\n",
    "Locate your Windsim Project and your windSim installation\n"
   ]
  },
  {
   "cell_type": "code",
   "execution_count": 1,
   "metadata": {},
   "outputs": [],
   "source": [
    "# Python needs to be >= 3.9\n",
    "from pathlib import Path\n",
    "import sys\n",
    "if sys.version_info < (3,8):\n",
    "    print(f\"Python version is {sys.version_info}, needs to be 3.9 or newer.\")\n"
   ]
  },
  {
   "cell_type": "markdown",
   "metadata": {},
   "source": [
    "## Project and environment variables\n",
    "### System\n",
    "* windsim: WindSim installation folder\n",
    "* environment: Where your environment file is located\n",
    "* layout: Name of the layout with suffix\n",
    "### Project \n",
    "* project: Directory where your project lives\n",
    "* owsfile: Name of the layout, containing the turbines you want to use as Actuator disks\n",
    "* layout: Name of the layout with suffix\n"
   ]
  },
  {
   "cell_type": "code",
   "execution_count": 8,
   "metadata": {
    "tags": [
     "parameters"
    ]
   },
   "outputs": [],
   "source": [
    "# Defining what you want to run\n",
    "project = Path('C:/Users/GullikKillie/Documents/WindSim Projects 12/Accelerator testing/gulliks_hus_v4/gulliks_hus_v4_base/gulliks_hus_v4.ws')\n",
    "windsim=Path('C:/Program Files/WindSim/WindSim 12.0.0')\n",
    "environment=Path('C:/Users/GullikKillie/AppData/Roaming/WindSim/1200/Environment.xml')\n",
    "layout='Layout1.lws'\n",
    "\n",
    "# Settings I want to vary\n",
    "windspeeds=[7, 20]\n",
    "\n"
   ]
  },
  {
   "cell_type": "markdown",
   "metadata": {},
   "source": [
    "## Project\n",
    "Defining the project class, project specific information"
   ]
  },
  {
   "cell_type": "code",
   "execution_count": 4,
   "metadata": {},
   "outputs": [],
   "source": [
    "# Defining the project we want to work with\n",
    "class Project():\n",
    "    def __init__(self, project_path: Path, layout: str=\"Layout 1.lws\"):\n",
    "        self.name = project_path.stem\n",
    "        self.project_file = project_path\n",
    "        self.layout = layout\n",
    "        self.base_directory = self.project_file.parent.parent\n"
   ]
  },
  {
   "cell_type": "markdown",
   "metadata": {},
   "source": [
    "## Runner which runs a project with 2 different boundary layer windspeeds\n",
    "WindSimRunner is the runner responsible for setting up and running the project.\n",
    "It is responsible to copy the base project, as well as managing some configuration files."
   ]
  },
  {
   "cell_type": "code",
   "execution_count": 10,
   "metadata": {},
   "outputs": [],
   "source": [
    "# Defining the Runner class\n",
    "from pathlib import Path    \n",
    "import shutil\n",
    "import xml.etree.ElementTree as ET\n",
    "from typing import List\n",
    "import itertools\n",
    "import os\n",
    "import time\n",
    "import types\n",
    "import subprocess\n",
    "\n",
    "\n",
    "\n",
    "\n",
    "# Defining the WindSimRunner class\n",
    "class WindSimRunner:\n",
    "    def __init__(self, project_path: Path, environment: Path, layout: str, windsim=Path('C:/Program Files/WindSim/WindSim 12.0.0')) :\n",
    "        self.project = Project(project_path=project_path, layout=layout)\n",
    "        self.project_names = []\n",
    "        self.windsim = windsim\n",
    "        self.environment = environment\n",
    "        self.sectors = self._get_sectors()\n",
    "        self.threads = self._get_threads()\n",
    "\n",
    "\n",
    "    def _get_sectors(self) -> List[float]:\n",
    "        \"\"\" Read the project file and the number of sectors to run for the projects \"\"\"\n",
    "        ET.register_namespace('', 'ProjectParameters.xsd')\n",
    "        tree = ET.parse(self.project.project_file)\n",
    "        root = tree.getroot()\n",
    "        sectors = []\n",
    "        for sector_element in root.iter('{ProjectParameters.xsd}Sector'):\n",
    "            sectors.append(sector_element.text)\n",
    "\n",
    "        return sectors\n",
    "    \n",
    "    def _get_threads(self) -> int:\n",
    "        \"\"\" Read the project file and the number of simultaneous simulations to run for the projects \"\"\"\n",
    "        ET.register_namespace('', 'ProjectParameters.xsd')\n",
    "        tree = ET.parse(self.project.project_file)\n",
    "        root = tree.getroot()\n",
    "        threads = 1\n",
    "        for threads_element in root.iter('{ProjectParameters.xsd}ParallelCores'):\n",
    "            threads = threads_element.text\n",
    "\n",
    "        return threads\n",
    "\n",
    "    \n",
    "    def _replace_or_add_element(self, namespace, field: ET.Element, parameter: str, value: any):\n",
    "        # This may or may not be available\n",
    "        parameter_present = False\n",
    "        for child in field.findall(\"{ProjectParameters.xsd}\"+parameter, namespace):\n",
    "            parameter_present = True\n",
    "            child.text = str(value)\n",
    "        if not parameter_present:\n",
    "            ows_element = ET.SubElement(field, parameter)\n",
    "            ows_element.text = str(value)\n",
    "\n",
    "    def setup_project(self, windspeeds: List[float] = [7, 20]):\n",
    "        \"\"\" Creates projects and necessary files to run the actuator disks\"\"\"\n",
    "        \n",
    "        for windspeed in  windspeeds:\n",
    "            print(f'Setting up {self.project.name} with Windspeed {windspeed}')\n",
    "            copy_name = self.copy_project(windspeed=windspeed)\n",
    "            self.project_names.append(copy_name)\n",
    "\n",
    "        return\n",
    "\n",
    "\n",
    "    def copy_project(self, windspeed: float = 7) -> str: \n",
    "        \"\"\"Copies a project with different settings given by the input\"\"\"\n",
    "\n",
    "        copy_name = f'{self.project.name}_windspeed_{windspeed}'\n",
    "        print(f\"Making {copy_name} from base {self.project.name}\")\n",
    "        base_dir = self.project.project_file.parent\n",
    "        dest_dir = self.project.base_directory / copy_name\n",
    "        \n",
    "        shutil.copytree(base_dir, dest_dir, dirs_exist_ok=True)\n",
    "\n",
    "        #Changing the Number of nodes and cells in the project\n",
    "        ET.register_namespace('', 'ProjectParameters.xsd')\n",
    "        tree = ET.parse(dest_dir  / f\"{self.project.name}.ws\")\n",
    "        root = tree.getroot()\n",
    "\n",
    "        namespace = {'project_parameters': 'ProjectParameters.xsd'}\n",
    "\n",
    "        for WindFields in root.findall(\"{ProjectParameters.xsd}WindField\"):\n",
    "            self._replace_or_add_element(namespace, WindFields, \"VelocityBoundaryLayer\", windspeed)\n",
    "\n",
    "        ET.indent(tree, '  ')\n",
    "        tree.write(dest_dir  / f\"{self.project.name}.ws\", encoding = \"UTF-8\",  xml_declaration=True)\n",
    "\n",
    "        project_file = dest_dir  / f\"{self.project.name}.ws\"\n",
    "        project_file.replace(f'{dest_dir / copy_name}.ws')\n",
    "\n",
    "        return copy_name\n"
   ]
  },
  {
   "cell_type": "markdown",
   "metadata": {},
   "source": [
    "### Run Setup project\n",
    "The python program will then create 4 copies of the base project so the directory will look like:\n",
    "```\n",
    "windsim-projects\n",
    "-my_project\n",
    "--my_project\n",
    "--my_project_windspeed_7\n",
    "--my_project_windspeed_20\n",
    "\n",
    "```\n",
    "Setting up a project for each of the combinations of windspeed: [low, high]"
   ]
  },
  {
   "cell_type": "code",
   "execution_count": 11,
   "metadata": {},
   "outputs": [
    {
     "name": "stdout",
     "output_type": "stream",
     "text": [
      "Setting up gulliks_hus_v4 with Windspeed 7\n",
      "Making gulliks_hus_v4_windspeed_7 from base gulliks_hus_v4\n",
      "Setting up gulliks_hus_v4 with Windspeed 20\n",
      "Making gulliks_hus_v4_windspeed_20 from base gulliks_hus_v4\n"
     ]
    }
   ],
   "source": [
    "# Running the setup script\n",
    "from pathlib import Path\n",
    "runner = WindSimRunner(project_path=project, windsim=windsim, environment=environment, layout=layout)\n",
    "\n",
    "runner.setup_project(windspeeds=windspeed)  # Copy projects and edit project.ws file\n"
   ]
  },
  {
   "cell_type": "markdown",
   "metadata": {},
   "source": [
    "## Run Terrain\n",
    "This runs the Terrain for each of the created projects."
   ]
  },
  {
   "cell_type": "code",
   "execution_count": 12,
   "metadata": {},
   "outputs": [
    {
     "name": "stdout",
     "output_type": "stream",
     "text": [
      "Run Terrain for gulliks_hus_v4_windspeed_7\n",
      "Run Report[Terrain] for gulliks_hus_v4_windspeed_7\n",
      "Run Terrain for gulliks_hus_v4_windspeed_20\n",
      "Run Report[Terrain] for gulliks_hus_v4_windspeed_20\n",
      "Finished running Terrain\n"
     ]
    }
   ],
   "source": [
    "\n",
    "def run_Terrains(self):\n",
    "    for project_name in self.project_names:\n",
    "        self.run_Terrain(project_name)\n",
    "\n",
    "    print(\"Finished running Terrain\")\n",
    "    \n",
    "\n",
    "def run_Terrain(self, name: str):\n",
    "    os.makedirs('tmp/', exist_ok=True)\n",
    "    os.chdir('tmp')\n",
    "    \n",
    "    print(f'Run Terrain for {name}')\n",
    "    subprocess.run(f'\"{self.windsim / \"bin\" / \"Terrain.exe\"}\" \"{os.path.join(self.project.base_directory, name, name+\".ws\")}\" \"{self.project.layout}\" \"{self.environment}\"')\n",
    "        \n",
    "    print(f'Run Report[Terrain] for {name}')\n",
    "\n",
    "    subprocess.run(f'\"{self.windsim / \"bin\" / \"Reports.exe\"}\" \"{os.path.join(self.project.base_directory, name, name+\".ws\")}\" \"{self.project.layout}\" \"{self.environment}\" 1')\n",
    "\n",
    "    os.chdir('../')\n",
    "\n",
    "    shutil.rmtree('tmp')\n",
    "\n",
    "\n",
    "# Add Terrain runner to runner\n",
    "runner.run_Terrains = types.MethodType(run_Terrains, runner)\n",
    "runner.run_Terrain = types.MethodType(run_Terrain, runner)\n",
    "\n",
    "runner.run_Terrains()\n"
   ]
  },
  {
   "cell_type": "markdown",
   "metadata": {},
   "source": [
    "## Run WindFields\n",
    "This runs WindFields for each of the projects. First we make a simple version for simpleness, and then we will expand it to a run all sectors in parallel.\n",
    "This version is only running the single sector of each project."
   ]
  },
  {
   "cell_type": "code",
   "execution_count": 14,
   "metadata": {},
   "outputs": [
    {
     "name": "stdout",
     "output_type": "stream",
     "text": [
      "Finished running WindFields\n"
     ]
    }
   ],
   "source": [
    "def run_WindFields(self):\n",
    "    # Then run the projects\n",
    "    for project_name in self.project_names:\n",
    "            self.run_WindField(project_name)\n",
    "\n",
    "    print(\"Finished running WindFields\")\n",
    "\n",
    "def run_WindField(self, name: str):\n",
    "    os.makedirs('tmp/', exist_ok=True)\n",
    "    os.chdir('tmp')\n",
    "\n",
    "    print(f'Running WindFields for {name}, sector: {self.sectors[0]}')\n",
    "    command = f'\"{self.windsim / \"bin\" / \"WindFields.exe\"}\" \"{os.path.join(self.project.base_directory, name, name+\".ws\")}\" \"{self.project.layout}\" \"{self.environment}\" /si1'\n",
    "    p=subprocess.run(command)            \n",
    "    \n",
    "    print(f'Running Report[WindFields] for {name}')\n",
    "    subprocess.run(f'\"{self.windsim / \"bin\" / \"Reports.exe\"}\" \"{os.path.join(self.project.base_directory, name, name+\".ws\")}\" \"{self.project.layout}\" \"{self.environment}\" 2')\n",
    "\n",
    "    os.chdir('../')\n",
    "\n",
    "    shutil.rmtree('tmp')\n",
    "\n",
    "\n",
    "# Add WindFields runner to runner\n",
    "runner.run_WindFields = types.MethodType(run_WindFields, runner)\n",
    "runner.run_WindField = types.MethodType(run_WindField, runner)\n",
    "\n",
    "runner.run_WindFields()\n",
    "\n"
   ]
  },
  {
   "cell_type": "code",
   "execution_count": null,
   "metadata": {},
   "outputs": [],
   "source": []
  }
 ],
 "metadata": {
  "kernelspec": {
   "display_name": "Python 3 (ipykernel)",
   "language": "python",
   "name": "python3"
  },
  "language_info": {
   "codemirror_mode": {
    "name": "ipython",
    "version": 3
   },
   "file_extension": ".py",
   "mimetype": "text/x-python",
   "name": "python",
   "nbconvert_exporter": "python",
   "pygments_lexer": "ipython3",
   "version": "3.11.8"
  }
 },
 "nbformat": 4,
 "nbformat_minor": 4
}
