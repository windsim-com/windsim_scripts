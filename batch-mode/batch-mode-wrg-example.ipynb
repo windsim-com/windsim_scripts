{
 "cells": [
  {
   "cell_type": "markdown",
   "metadata": {},
   "source": [
    "# Similar mindset to create multiple wrg exports from different climatologies\n",
    "## Prerequisite setup\n",
    "\n",
    "Locate your Windsim Project and your WindSim installation\n",
    "\n",
    "Install python with jupyter notebook installed,\n",
    "or (recommended) use pipenv and the Pipfile to set up the environment.\n",
    "\n",
    "* This assumes the project has been running up Windfields and an initial objects to configure the Layout\n",
    "* You have measurements at different heights\n"
   ]
  },
  {
   "cell_type": "code",
   "execution_count": 46,
   "metadata": {},
   "outputs": [],
   "source": [
    "# Python needs to be >= 3.9\n",
    "from pathlib import Path\n",
    "import sys\n",
    "if sys.version_info < (3,8):\n",
    "    print(f\"Python version is {sys.version_info}, needs to be 3.9 or newer.\")\n",
    "\n",
    "from pathlib import Path    \n",
    "import shutil\n",
    "import xml.etree.ElementTree as ET\n",
    "from typing import List\n",
    "import itertools\n",
    "import os\n",
    "import time\n",
    "import types\n",
    "import subprocess\n",
    "import datetime\n",
    "\n"
   ]
  },
  {
   "cell_type": "markdown",
   "metadata": {},
   "source": [
    "## Project and environment variables\n",
    "### System\n",
    "* windsim: WindSim installation folder\n",
    "* environment: Where your environment file is located\n",
    "* layout: Name of the layout with suffix\n",
    "### Project \n",
    "* project: Directory where your project lives\n",
    "* owsfile: Name of the layout, containing the turbines you want to use as Actuator disks\n",
    "* layout: Name of the layout with suffix\n"
   ]
  },
  {
   "cell_type": "code",
   "execution_count": 6,
   "metadata": {
    "tags": [
     "parameters"
    ]
   },
   "outputs": [],
   "source": [
    "# Defining what you want to run\n",
    "project = Path('C:/Users/GullikKillie/Documents/WindSim Projects 12/development/Hundhammer/Hundhammer.ws')\n",
    "windsim=Path('C:/Program Files/WindSim/WindSim 12.0.0')\n",
    "environment=Path('C:/Users/GullikKillie/AppData/Roaming/WindSim/1200/Environment.xml')\n",
    "layout='Layout 1.lws'"
   ]
  },
  {
   "cell_type": "markdown",
   "metadata": {},
   "source": [
    "## Project\n",
    "Defining the project class, project specific information"
   ]
  },
  {
   "cell_type": "code",
   "execution_count": 71,
   "metadata": {},
   "outputs": [],
   "source": [
    "# Defining the project we want to work with\n",
    "class Project():\n",
    "    def __init__(self, project_path: Path, layout: str=\"Layout 1\"):\n",
    "        self.name = project_path.stem\n",
    "        self.project_file = project_path\n",
    "        self.layout = layout\n",
    "        self.base_directory = self.project_file.parent.parent\n",
    "\n",
    "project = Project(project_path=Path('C:/Users/GullikKillie/Documents/WindSim Projects 12/development/Hundhammer/Hundhammer.ws'), layout='Layout 1')\n",
    "climatologies =[{'name': 'Hundhammer_30m', 'height': 30}, {'name': 'Hundhammer_73m', 'height': 73}, {'name': 'Hundhammer_83m', 'height': 83}]\n"
   ]
  },
  {
   "cell_type": "markdown",
   "metadata": {},
   "source": [
    "# LayoutCreator\n",
    "Next we create the LayoutCreator, which will create a layout for each climatology, this can be adapted to do other mixes with turbines as well mixed in the layouts.\n",
    "\n",
    "1. Copy the initial layout to layouts with climatology names\n",
    "2. Change out height and names in layout files\n",
    "3. Add entry into LayoutLists\n",
    "4. Run Object for different climatologies\n",
    "5. Run WindResources for different layouts/climatologies"
   ]
  },
  {
   "cell_type": "code",
   "execution_count": 75,
   "metadata": {},
   "outputs": [
    {
     "name": "stdout",
     "output_type": "stream",
     "text": [
      "Making new layout Hundhammer_83m using climatology Hundhammer_83m, in project C:\\Users\\GullikKillie\\Documents\\WindSim Projects 12\\development\\Hundhammer\n"
     ]
    }
   ],
   "source": [
    "class LayoutCreator:\n",
    "    def __init__(self, project: Project, climatologies: list[str]) :\n",
    "        self.project = project\n",
    "        self.climatologies = climatologies\n",
    "\n",
    "\n",
    "    def copy_layout(self, climatology: str) -> None: \n",
    "        \"\"\"Copies a layout, layout folder and layout-file, this requires a layout to be present\"\"\"\n",
    "        \n",
    "        original_layout =self.project.project_file.parent / self.project.layout\n",
    "        new_layout =self.project.project_file.parent / climatology\n",
    "        print(f\"Making new layout {climatology} using climatology {climatology}, in project {self.project.project_file.parent}\")\n",
    "        \n",
    "        #Copy folder\n",
    "        shutil.copytree(src=original_layout, dst=new_layout, dirs_exist_ok=True)\n",
    "\n",
    "        # Copy layout-file\n",
    "        shutil.copy(src=original_layout.with_suffix('.lws'), dst= new_layout.with_suffix('.lws'))\n",
    "\n",
    "        # Add entry in layoutlist\n",
    "        self._add_layout_entry(climatology=climatology)\n",
    "\n",
    "        return \n",
    "    \n",
    "    def _change_climatology(self, climatology:str, height:int):\n",
    "        '''Changes the climatology in a layout'''\n",
    "        ET.register_namespace('', 'LayoutParameters.xsd')\n",
    "        layout_file =(self.project.project_file.parent / climatology).with_suffix('.lws')\n",
    "\n",
    "        tree = ET.parse(layout_file)\n",
    "        root = tree.getroot()\n",
    "        namespace = {'layout_parameters': 'LayoutParameters.xsd'}\n",
    "\n",
    "        for object in root.findall(\"{LayoutParameters.xsd}Objects\"):\n",
    "            for objectpoint in object.findall(\"{LayoutParameters.xsd}ObjectPoint\"):            \n",
    "                self._replace_or_add_element(namespace=namespace, field=objectpoint, parameter='IDText', value=climatology)\n",
    "                self._replace_or_add_element(namespace=namespace, field=objectpoint, parameter='Zpos', value=height)\n",
    "                self._replace_or_add_element(namespace=namespace, field=objectpoint, parameter='IDhtml', value=climatology)\n",
    "                self._replace_or_add_element(namespace=namespace, field=objectpoint, parameter='WecsClimFileName', value=climatology)\n",
    "\n",
    "\n",
    "        ET.indent(tree, '  ')\n",
    "        tree.write(layout_file, encoding = \"UTF-8\",  xml_declaration=True)\n",
    "\n",
    "        return\n",
    "    \n",
    "    def _add_layout_entry(self, climatology:str):\n",
    "        ''' Adds the new entry in the LayoutList'''\n",
    "        ET.register_namespace('', 'LayoutList.xsd')\n",
    "        tree = ET.parse(self.project.project_file.parent / 'LayoutList.xml')\n",
    "        root = tree.getroot()\n",
    "        namespace = {'layoutlist_parameters': 'LayoutList.xsd'}\n",
    "\n",
    "        # Create a new layout element\n",
    "        new_layout = ET.Element(\"Layout\")\n",
    "        ET.SubElement(new_layout, \"Name\").text = climatology\n",
    "        ET.SubElement(new_layout, \"LastOpened\").text = datetime.datetime.now().strftime(\"%Y-%m-%dT%H:%M:%S.%f%z\")\n",
    "        ET.SubElement(new_layout, \"ShortName\").text = climatology\n",
    "        ET.SubElement(new_layout, \"ShortFullPath\").text = (self.project.project_file.parent / climatology).with_suffix('.lws').as_posix().replace('/', '\\\\')\n",
    "        # Append the new layout to the root element\n",
    "        root.append(new_layout)\n",
    "\n",
    "        # Save the modified XML file\n",
    "        ET.indent(tree, '  ')\n",
    "\n",
    "        tree.write(self.project.project_file.parent / 'LayoutList_new', encoding=\"utf-8\", xml_declaration=True)\n",
    "\n",
    "\n",
    "        return\n",
    "    \n",
    "    def _replace_or_add_element(self, namespace, field: ET.Element, parameter: str, value: any):\n",
    "        # This may or may not be available\n",
    "        parameter_present = False\n",
    "        for child in field.findall(\"{LayoutParameters.xsd}\"+parameter, namespace):\n",
    "            parameter_present = True\n",
    "            child.text = str(value)\n",
    "        if not parameter_present:\n",
    "            ows_element = ET.SubElement(field, parameter)\n",
    "            ows_element.text = str(value)\n",
    "\n",
    "layout_creator = LayoutCreator(project=project, climatologies=climatologies)\n",
    "\n",
    "layout_creator.copy_layout(climatology='Hundhammer_83m')\n",
    "layout_creator._add_layout_entry(climatology='Hundhammer_83m')\n",
    "layout_creator._change_climatology(climatology='Hundhammer_83m', height=83)"
   ]
  },
  {
   "cell_type": "code",
   "execution_count": null,
   "metadata": {},
   "outputs": [],
   "source": [
    "        #Changing the Number of nodes and cells in the project\n",
    "        ET.register_namespace('', 'ProjectParameters.xsd')\n",
    "        tree = ET.parse(dest_dir  / f\"{self.project.name}.ws\")\n",
    "        root = tree.getroot()\n",
    "\n",
    "        namespace = {'project_parameters': 'ProjectParameters.xsd'}\n",
    "\n",
    "        for WindFields in root.findall(\"{ProjectParameters.xsd}WindField\"):\n",
    "            self._replace_or_add_element(namespace, WindFields, \"VelocityBoundaryLayer\", windspeed)\n",
    "\n",
    "        ET.indent(tree, '  ')\n",
    "        tree.write(dest_dir  / f\"{self.project.name}.ws\", encoding = \"UTF-8\",  xml_declaration=True)"
   ]
  },
  {
   "cell_type": "code",
   "execution_count": 16,
   "metadata": {},
   "outputs": [
    {
     "ename": "NameError",
     "evalue": "name 'run_Terrains' is not defined",
     "output_type": "error",
     "traceback": [
      "\u001b[1;31m---------------------------------------------------------------------------\u001b[0m",
      "\u001b[1;31mNameError\u001b[0m                                 Traceback (most recent call last)",
      "Cell \u001b[1;32mIn[16], line 18\u001b[0m\n\u001b[0;32m     14\u001b[0m     shutil\u001b[38;5;241m.\u001b[39mrmtree(\u001b[38;5;124m'\u001b[39m\u001b[38;5;124mtmp\u001b[39m\u001b[38;5;124m'\u001b[39m)\n\u001b[0;32m     17\u001b[0m \u001b[38;5;66;03m# Add Terrain runner to runner\u001b[39;00m\n\u001b[1;32m---> 18\u001b[0m runner\u001b[38;5;241m.\u001b[39mrun_Terrains \u001b[38;5;241m=\u001b[39m types\u001b[38;5;241m.\u001b[39mMethodType(\u001b[43mrun_Terrains\u001b[49m, runner)\n\u001b[0;32m     19\u001b[0m runner\u001b[38;5;241m.\u001b[39mrun_Terrain \u001b[38;5;241m=\u001b[39m types\u001b[38;5;241m.\u001b[39mMethodType(run_object, runner)\n\u001b[0;32m     21\u001b[0m runner\u001b[38;5;241m.\u001b[39mrun_Terrains()\n",
      "\u001b[1;31mNameError\u001b[0m: name 'run_Terrains' is not defined"
     ]
    }
   ],
   "source": [
    "def run_Object(self, name: str):\n",
    "    os.makedirs('tmp/', exist_ok=True)\n",
    "    os.chdir('tmp')\n",
    "    \n",
    "    print(f'Run Terrain for {name}')\n",
    "    subprocess.run(f'\"{self.windsim / \"bin\" / \"Terrain.exe\"}\" \"{os.path.join(self.project.base_directory, name, name+\".ws\")}\" \"{self.project.layout}\" \"{self.environment}\"')\n",
    "        \n",
    "    print(f'Run Report[Terrain] for {name}')\n",
    "\n",
    "    subprocess.run(f'\"{self.windsim / \"bin\" / \"Reports.exe\"}\" \"{os.path.join(self.project.base_directory, name, name+\".ws\")}\" \"{self.project.layout}\" \"{self.environment}\" 3')\n",
    "\n",
    "    os.chdir('../')\n",
    "\n",
    "    shutil.rmtree('tmp')\n",
    "\n",
    "\n",
    "# Add Terrain runner to runner\n",
    "runner.run_Terrains = types.MethodType(run_Terrains, runner)\n",
    "runner.run_Terrain = types.MethodType(run_object, runner)\n",
    "\n",
    "runner.run_Terrains()\n"
   ]
  },
  {
   "cell_type": "code",
   "execution_count": null,
   "metadata": {},
   "outputs": [],
   "source": [
    "\n"
   ]
  }
 ],
 "metadata": {
  "kernelspec": {
   "display_name": "windsim_scripts-KqBtEyzv",
   "language": "python",
   "name": "python3"
  },
  "language_info": {
   "codemirror_mode": {
    "name": "ipython",
    "version": 3
   },
   "file_extension": ".py",
   "mimetype": "text/x-python",
   "name": "python",
   "nbconvert_exporter": "python",
   "pygments_lexer": "ipython3",
   "version": "3.11.9"
  }
 },
 "nbformat": 4,
 "nbformat_minor": 4
}
